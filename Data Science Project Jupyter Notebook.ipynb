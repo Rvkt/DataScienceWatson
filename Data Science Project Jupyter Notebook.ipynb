{
    "cells": [
        {
            "cell_type": "markdown",
            "metadata": {
                "collapsed": true,
                "id": "f10903c9-636b-477a-98c6-e1b7cce82a21",
                "jupyter": {
                    "outputs_hidden": true
                }
            },
            "source": "This program prints Hello, World!"
        },
        {
            "cell_type": "code",
            "execution_count": 1,
            "metadata": {
                "id": "37f7efd3-6b89-4649-aff3-e2cf35822a30"
            },
            "outputs": [
                {
                    "name": "stdout",
                    "output_type": "stream",
                    "text": "Hello, World!\n"
                }
            ],
            "source": "print('Hello, World!')"
        },
        {
            "cell_type": "code",
            "execution_count": null,
            "metadata": {
                "id": "6c62407f-bf90-40a5-86d7-6e4869f5b6ce"
            },
            "outputs": [],
            "source": ""
        }
    ],
    "metadata": {
        "kernelspec": {
            "display_name": "Python 3.11",
            "language": "python",
            "name": "python3"
        },
        "language_info": {
            "codemirror_mode": {
                "name": "ipython",
                "version": 3
            },
            "file_extension": ".py",
            "mimetype": "text/x-python",
            "name": "python",
            "nbconvert_exporter": "python",
            "pygments_lexer": "ipython3",
            "version": "3.11.9"
        }
    },
    "nbformat": 4,
    "nbformat_minor": 4
}